{
 "cells": [
  {
   "cell_type": "code",
   "execution_count": 2,
   "metadata": {},
   "outputs": [
    {
     "data": {
      "text/html": [
       "<div>\n",
       "<style scoped>\n",
       "    .dataframe tbody tr th:only-of-type {\n",
       "        vertical-align: middle;\n",
       "    }\n",
       "\n",
       "    .dataframe tbody tr th {\n",
       "        vertical-align: top;\n",
       "    }\n",
       "\n",
       "    .dataframe thead th {\n",
       "        text-align: right;\n",
       "    }\n",
       "</style>\n",
       "<table border=\"1\" class=\"dataframe\">\n",
       "  <thead>\n",
       "    <tr style=\"text-align: right;\">\n",
       "      <th></th>\n",
       "      <th>user_id</th>\n",
       "      <th>label</th>\n",
       "      <th>dmp_id</th>\n",
       "    </tr>\n",
       "  </thead>\n",
       "  <tbody>\n",
       "    <tr>\n",
       "      <th>0</th>\n",
       "      <td>1</td>\n",
       "      <td>0</td>\n",
       "      <td>1</td>\n",
       "    </tr>\n",
       "    <tr>\n",
       "      <th>1</th>\n",
       "      <td>1000004</td>\n",
       "      <td>0</td>\n",
       "      <td>1</td>\n",
       "    </tr>\n",
       "    <tr>\n",
       "      <th>2</th>\n",
       "      <td>1000004</td>\n",
       "      <td>0</td>\n",
       "      <td>2</td>\n",
       "    </tr>\n",
       "    <tr>\n",
       "      <th>3</th>\n",
       "      <td>1000006</td>\n",
       "      <td>0</td>\n",
       "      <td>1</td>\n",
       "    </tr>\n",
       "    <tr>\n",
       "      <th>4</th>\n",
       "      <td>1000006</td>\n",
       "      <td>0</td>\n",
       "      <td>3</td>\n",
       "    </tr>\n",
       "  </tbody>\n",
       "</table>\n",
       "</div>"
      ],
      "text/plain": [
       "   user_id  label  dmp_id\n",
       "0        1      0       1\n",
       "1  1000004      0       1\n",
       "2  1000004      0       2\n",
       "3  1000006      0       1\n",
       "4  1000006      0       3"
      ]
     },
     "execution_count": 2,
     "metadata": {},
     "output_type": "execute_result"
    }
   ],
   "source": [
    "import pandas as pd\n",
    "import numpy as np\n",
    "import matplotlib.pyplot as plt\n",
    "\n",
    "%matplotlib inline\n",
    "\n",
    "# 广告点击情况\n",
    "ctr_data = pd.read_csv('effect_tb.csv',header=None)\n",
    "ctr_data.columns = ['dt','user_id','label','dmp_id']\n",
    "\n",
    "# user_id:支付宝用户的id\n",
    "# label表示用户在当天 dt 是否点击了活动广告。\n",
    "# dmp_id 标识了了三个不同版本，其中dmp_id=1是对照组\n",
    "\n",
    "ctr_data.drop(columns='dt',inplace=True)\n",
    "ctr_data.head()"
   ]
  },
  {
   "cell_type": "code",
   "execution_count": 3,
   "metadata": {},
   "outputs": [
    {
     "data": {
      "text/plain": [
       "0.012492464908000114"
      ]
     },
     "execution_count": 3,
     "metadata": {},
     "output_type": "execute_result"
    }
   ],
   "source": [
    "# 找出对照组1的基准线,点击的百分比1.2%\n",
    "ctr_data[ctr_data['dmp_id']==1]['label'].mean()"
   ]
  },
  {
   "cell_type": "code",
   "execution_count": null,
   "metadata": {},
   "outputs": [],
   "source": [
    "\"\"\"https://www.evanmiller.org/ab-testing/sample-size.html\"\"\"\n",
    "# 如果想要实验组的效果提升1%，那么需要最小的样本量为2167"
   ]
  },
  {
   "cell_type": "code",
   "execution_count": 6,
   "metadata": {},
   "outputs": [
    {
     "data": {
      "text/plain": [
       "1    1916035\n",
       "2     412678\n",
       "3     317245\n",
       "Name: dmp_id, dtype: int64"
      ]
     },
     "execution_count": 6,
     "metadata": {},
     "output_type": "execute_result"
    }
   ],
   "source": [
    "# 查看一下实验组的数据量\n",
    "ctr_data['dmp_id'].value_counts()\n",
    "# 大于最小样本量即可"
   ]
  },
  {
   "cell_type": "code",
   "execution_count": 11,
   "metadata": {},
   "outputs": [
    {
     "name": "stdout",
     "output_type": "stream",
     "text": [
      "对照组： count    1.916035e+06\n",
      "mean     1.249246e-02\n",
      "std      1.110694e-01\n",
      "min      0.000000e+00\n",
      "25%      0.000000e+00\n",
      "50%      0.000000e+00\n",
      "75%      0.000000e+00\n",
      "max      1.000000e+00\n",
      "Name: label, dtype: float64\n",
      "实验组2： count    412678.000000\n",
      "mean          0.015283\n",
      "std           0.122677\n",
      "min           0.000000\n",
      "25%           0.000000\n",
      "50%           0.000000\n",
      "75%           0.000000\n",
      "max           1.000000\n",
      "Name: label, dtype: float64\n",
      "对照组3： count    317245.000000\n",
      "mean          0.026131\n",
      "std           0.159526\n",
      "min           0.000000\n",
      "25%           0.000000\n",
      "50%           0.000000\n",
      "75%           0.000000\n",
      "max           1.000000\n",
      "Name: label, dtype: float64\n"
     ]
    }
   ],
   "source": [
    "# 查看一下三个组别的点击率情况：\n",
    "print('对照组：',ctr_data[ctr_data.dmp_id==1].label.describe())\n",
    "print('实验组2：',ctr_data[ctr_data.dmp_id==2].label.describe())\n",
    "print('对照组3：',ctr_data[ctr_data.dmp_id==3].label.describe())"
   ]
  },
  {
   "cell_type": "code",
   "execution_count": null,
   "metadata": {},
   "outputs": [],
   "source": [
    "# 可以看到实验3的平均点击率为2.6131%，提升比较大；可以直接对实验3进行ABtest"
   ]
  },
  {
   "cell_type": "code",
   "execution_count": 17,
   "metadata": {},
   "outputs": [
    {
     "name": "stdout",
     "output_type": "stream",
     "text": [
      "-59.66600946268368\n"
     ]
    }
   ],
   "source": [
    "import numpy as np\n",
    "# 假设检验\n",
    "# 1.零假设：实验组3的ctr >= 对照组1的ctr\n",
    "#  备择假设： xxx\n",
    "# 2.选择检验统计量：因为样本量较大，选择Z检验\n",
    "# 3.计算\n",
    "# 3.1两个组的点击率\n",
    "p1 = ctr_data[ctr_data.dmp_id==1].label.mean()\n",
    "p3 = ctr_data[ctr_data.dmp_id==3].label.mean()\n",
    "# 3.2两个组的样本量\n",
    "n1 = len(ctr_data[ctr_data.dmp_id==1])\n",
    "n3 = len(ctr_data[ctr_data.dmp_id==3])\n",
    "# 3.3计算点击率之和\n",
    "pc = (p1*n1 + p3*n3)/(n1 + n3)\n",
    "# 3.4计算检验统计量\n",
    "z = (p1 - p3)/np.sqrt(pc*(1-pc)*(1/n1+1/n3))\n",
    "print(z)"
   ]
  },
  {
   "cell_type": "code",
   "execution_count": 20,
   "metadata": {},
   "outputs": [
    {
     "data": {
      "text/plain": [
       "-1.6448536269514729"
      ]
     },
     "execution_count": 20,
     "metadata": {},
     "output_type": "execute_result"
    }
   ],
   "source": [
    "# 设定显著性水平α为5%，对应的z分位数为：\n",
    "from scipy.stats import norm\n",
    "z_alpha = norm.ppf(0.05)\n",
    "z_alpha"
   ]
  },
  {
   "cell_type": "code",
   "execution_count": null,
   "metadata": {},
   "outputs": [],
   "source": [
    "# 计算出的z统计量落在拒绝域内，拒绝原假设\n",
    "# 因此，我们可以得出结论：在显著性水平为0.05时，可以拒绝原假设，实验组3的确实显著提升了点击率"
   ]
  },
  {
   "cell_type": "code",
   "execution_count": null,
   "metadata": {},
   "outputs": [],
   "source": [
    "# 后续补充..."
   ]
  }
 ],
 "metadata": {
  "interpreter": {
   "hash": "4ce0e62306dd6a5716965d4519ada776f947e6dfc145b604b11307c10277ef29"
  },
  "kernelspec": {
   "display_name": "Python 3.8.6 64-bit",
   "language": "python",
   "name": "python3"
  },
  "language_info": {
   "codemirror_mode": {
    "name": "ipython",
    "version": 3
   },
   "file_extension": ".py",
   "mimetype": "text/x-python",
   "name": "python",
   "nbconvert_exporter": "python",
   "pygments_lexer": "ipython3",
   "version": "3.8.6"
  },
  "orig_nbformat": 4
 },
 "nbformat": 4,
 "nbformat_minor": 2
}
